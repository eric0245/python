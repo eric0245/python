{
 "cells": [
  {
   "cell_type": "markdown",
   "metadata": {},
   "source": [
    "# Chap 3\n",
    "# Python物件\n",
    "## List[串列] Tuple(元組) Dictionary{字典} Sets{集合}"
   ]
  },
  {
   "cell_type": "markdown",
   "metadata": {},
   "source": [
    "## List[串列]\n",
    "使用中括號[]包囊元素"
   ]
  },
  {
   "cell_type": "code",
   "execution_count": 2,
   "metadata": {},
   "outputs": [
    {
     "name": "stdout",
     "output_type": "stream",
     "text": [
      "3600\n"
     ]
    }
   ],
   "source": [
    "expenses = [1138, 101, 12, 300, 2049]\n",
    "print(sum(expenses))"
   ]
  },
  {
   "cell_type": "markdown",
   "metadata": {},
   "source": [
    "## 索引"
   ]
  },
  {
   "cell_type": "code",
   "execution_count": 3,
   "metadata": {},
   "outputs": [
    {
     "name": "stdout",
     "output_type": "stream",
     "text": [
      "1138\n",
      "101\n",
      "2049\n",
      "300\n"
     ]
    }
   ],
   "source": [
    "expenses = [1138, 101, 12, 300, 2049]\n",
    "print(expenses[0]) #索引從0開始\n",
    "print(expenses[1]) #索引從1開始\n",
    "print(expenses[-1]) #倒數第一個\n",
    "print(expenses[-2]) #倒數第二個"
   ]
  },
  {
   "cell_type": "code",
   "execution_count": 4,
   "metadata": {},
   "outputs": [
    {
     "name": "stdout",
     "output_type": "stream",
     "text": [
      "python\n"
     ]
    }
   ],
   "source": [
    "my_list0 = [] #空串列\n",
    "my_list1 = list()\n",
    "my_list2 = ['python', 'javascript', 'C#']\n",
    "print(my_list2[0])"
   ]
  },
  {
   "cell_type": "markdown",
   "metadata": {},
   "source": [
    "list的長度"
   ]
  },
  {
   "cell_type": "code",
   "execution_count": 6,
   "metadata": {},
   "outputs": [
    {
     "name": "stdout",
     "output_type": "stream",
     "text": [
      "3\n",
      "6\n"
     ]
    }
   ],
   "source": [
    "my_list2 = ['python', 'javascript', 'C#']\n",
    "print(len(my_list2)) #數量\n",
    "print(len(my_list2[0])) #第0項的字長度"
   ]
  },
  {
   "cell_type": "markdown",
   "metadata": {},
   "source": [
    "附加"
   ]
  },
  {
   "cell_type": "code",
   "execution_count": 7,
   "metadata": {},
   "outputs": [
    {
     "name": "stdout",
     "output_type": "stream",
     "text": [
      "['python', 'javascript', 'C#', 'java']\n"
     ]
    }
   ],
   "source": [
    "my_list2 = ['python', 'javascript', 'C#']\n",
    "my_list2.append('java')\n",
    "print(my_list2)"
   ]
  },
  {
   "cell_type": "code",
   "execution_count": 8,
   "metadata": {},
   "outputs": [
    {
     "name": "stdout",
     "output_type": "stream",
     "text": [
      "['python', 'java', 'javascript', 'C#']\n"
     ]
    }
   ],
   "source": [
    "my_list2 = ['python', 'javascript', 'C#']\n",
    "my_list2.insert(1,'java')\n",
    "print(my_list2)"
   ]
  },
  {
   "cell_type": "markdown",
   "metadata": {},
   "source": [
    "刪除"
   ]
  },
  {
   "cell_type": "code",
   "execution_count": 9,
   "metadata": {},
   "outputs": [
    {
     "name": "stdout",
     "output_type": "stream",
     "text": [
      "['javascript', 'C#']\n",
      "['javascript']\n",
      "[]\n"
     ]
    }
   ],
   "source": [
    "my_list2 = ['python', 'javascript', 'C#']\n",
    "my_list2.remove('python') #移除指定元素\n",
    "print(my_list2)\n",
    "del my_list2[-1] #刪除指定位置的元素\n",
    "print(my_list2)\n",
    "my_list2.clear() #清除全部\n",
    "print(my_list2)"
   ]
  },
  {
   "cell_type": "markdown",
   "metadata": {},
   "source": [
    "串列"
   ]
  },
  {
   "cell_type": "code",
   "execution_count": 10,
   "metadata": {},
   "outputs": [
    {
     "name": "stdout",
     "output_type": "stream",
     "text": [
      "[1, 2, 1, 2, 1, 2, 1, 2, 1, 2]\n"
     ]
    }
   ],
   "source": [
    "a=[1,2]\n",
    "print(a*5)"
   ]
  },
  {
   "cell_type": "markdown",
   "metadata": {},
   "source": [
    "list取值"
   ]
  },
  {
   "cell_type": "code",
   "execution_count": 15,
   "metadata": {},
   "outputs": [
    {
     "name": "stdout",
     "output_type": "stream",
     "text": [
      "[1, 2, 3]\n",
      "[1, 3, 5, 7, 9]\n",
      "[1, 2, 3, 4, 5, 6, 7, 8, 9]\n",
      "[1, 2, 3, 4, 5, 6, 7, 8, 9]\n",
      "[1, 2, 3, 4, 5, 6, 7, 8, 9]\n"
     ]
    }
   ],
   "source": [
    "a=[1,2,3,4,5,6,7,8,9]\n",
    "b=a[0:3] #範圍取值 0,1,2不包含3\n",
    "print(b)\n",
    "c=a[0:9:2] #開頭2取值\n",
    "print(c)\n",
    "d = a[0: ]\n",
    "print(d)\n",
    "e = a[ :9]\n",
    "print(e)\n",
    "f = a[:]\n",
    "print(f)"
   ]
  },
  {
   "cell_type": "code",
   "execution_count": 16,
   "metadata": {},
   "outputs": [
    {
     "name": "stdout",
     "output_type": "stream",
     "text": [
      "[1, 2, 3, 4, 5, 6, 7]\n",
      "1\n",
      "7\n",
      "0\n",
      "4\n",
      "[7, 6, 5, 4, 3, 2, 1]\n",
      "[1, 2, 3, 4, 5, 6, 7]\n"
     ]
    }
   ],
   "source": [
    "a=[1,2,3,4,5,6,7,8,9]\n",
    "del a[7:9] #刪除某範圍值, 7, 8\n",
    "print(a)\n",
    "print(min(a)) #最小值\n",
    "print(max(a)) #最大值\n",
    "print(a.index(1)) #找出1所在的第一個索引值\n",
    "b=[1,0,0,1,1,1]\n",
    "print(b.count(1)) #1出現的次數\n",
    "a.reverse() #串列反轉\n",
    "print(a)\n",
    "a.sort() #串列由小到大排序,a的值會被改變\n",
    "print(a)"
   ]
  },
  {
   "cell_type": "code",
   "execution_count": 17,
   "metadata": {},
   "outputs": [
    {
     "name": "stdout",
     "output_type": "stream",
     "text": [
      "[12, 101, 300, 1138, 2049] [1138, 101, 12, 300, 2049]\n"
     ]
    }
   ],
   "source": [
    "expense = [1138,101,12,300,2049]\n",
    "s=sorted(expense) #expenses的值不會變\n",
    "print(s, expenses)"
   ]
  },
  {
   "cell_type": "markdown",
   "metadata": {},
   "source": [
    "## Tuple (元祖)\n",
    "tuple(元祖)可以視為不同不可改變的舉例(list)，tuple跟list很像，但是不能新\n",
    "增刪除或者更新tuple的元素。\n",
    "tuple比起list的好處：\n",
    "* 佔用空間少\n",
    "* 可以當作dictionary(字典)的key\n",
    "* 具名tuple當作物件替代\n",
    "* 當作函式的引數"
   ]
  },
  {
   "cell_type": "code",
   "execution_count": 7,
   "metadata": {},
   "outputs": [
    {
     "name": "stdout",
     "output_type": "stream",
     "text": [
      "('python', 'js', 'C#')\n",
      "('python', 'js', 'C#')\n",
      "python\n"
     ]
    }
   ],
   "source": [
    "a_list=['python', 'js', 'c#']\n",
    "a_tuple=tuple(a_list)\n",
    "b_tuple=('python', 'js', 'c#')\n",
    "print(a_tuple)\n",
    "print(b_tuple)\n",
    "print(a_tuple[0])"
   ]
  },
  {
   "cell_type": "markdown",
   "metadata": {},
   "source": [
    "## Dictionary - dict (字典)\n",
    "dict為帶有變值(key)的串列\n",
    "    * 顯示方法為{}"
   ]
  },
  {
   "cell_type": "code",
   "execution_count": 3,
   "metadata": {},
   "outputs": [
    {
     "name": "stdout",
     "output_type": "stream",
     "text": [
      "python\n",
      "3.7\n",
      "{0: 'python', 1: '3.7'}\n",
      "python\n"
     ]
    }
   ],
   "source": [
    "languages={}\n",
    "languages={'name':'pathon','version':'3.7'}\n",
    "a_list=['python', '3.7']\n",
    "a_dict={0:'python',1:'3.7'}\n",
    "print(a_list[0])\n",
    "print(a_list[1])\n",
    "print(a_dict)\n",
    "print(a_dict[0]) #dict就是索引值可以改變的List"
   ]
  },
  {
   "cell_type": "code",
   "execution_count": 8,
   "metadata": {},
   "outputs": [
    {
     "name": "stdout",
     "output_type": "stream",
     "text": [
      "pathon\n",
      "{'name': 'pathon', 'version': '3.7'}\n",
      "dict_keys(['name', 'version'])\n",
      "dict_values(['pathon', '3.7'])\n",
      "dict_items([('name', 'pathon'), ('version', '3.7')])\n",
      "True\n"
     ]
    }
   ],
   "source": [
    "languages={'name':'pathon','version':'3.7'}\n",
    "print(languages['name'])\n",
    "print(languages)\n",
    "print(languages.keys())\n",
    "print(languages.values())\n",
    "print(languages.items())\n",
    "print('name' in languages)"
   ]
  },
  {
   "cell_type": "code",
   "execution_count": 11,
   "metadata": {},
   "outputs": [
    {
     "name": "stdout",
     "output_type": "stream",
     "text": [
      "擲出骰子的點數\n",
      "四點\n"
     ]
    }
   ],
   "source": [
    "import random\n",
    "dice=random.randint(1,6)\n",
    "print(\"擲出骰子的點數\")\n",
    "if dice==1:\n",
    "    print('一點')\n",
    "elif dice==2:\n",
    "    print('二點')\n",
    "elif dice==3:\n",
    "    print('三點')\n",
    "elif dice==4:\n",
    "    print('四點')\n",
    "elif dice==5:\n",
    "    print('五點')\n",
    "else:\n",
    "    print('六點')"
   ]
  },
  {
   "cell_type": "code",
   "execution_count": null,
   "metadata": {},
   "outputs": [],
   "source": []
  }
 ],
 "metadata": {
  "kernelspec": {
   "display_name": "Python 3",
   "language": "python",
   "name": "python3"
  },
  "language_info": {
   "codemirror_mode": {
    "name": "ipython",
    "version": 3
   },
   "file_extension": ".py",
   "mimetype": "text/x-python",
   "name": "python",
   "nbconvert_exporter": "python",
   "pygments_lexer": "ipython3",
   "version": "3.8.5"
  }
 },
 "nbformat": 4,
 "nbformat_minor": 4
}
